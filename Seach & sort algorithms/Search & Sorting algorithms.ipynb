{
 "cells": [
  {
   "cell_type": "markdown",
   "metadata": {},
   "source": [
    "# Searching & Sorting Algorithms"
   ]
  },
  {
   "cell_type": "markdown",
   "metadata": {},
   "source": [
    "***"
   ]
  },
  {
   "cell_type": "markdown",
   "metadata": {},
   "source": [
    "## Sorting Algorithms"
   ]
  },
  {
   "cell_type": "markdown",
   "metadata": {},
   "source": [
    "### Bubble Sort"
   ]
  },
  {
   "cell_type": "markdown",
   "metadata": {},
   "source": [
    "#### Cómo Funciona"
   ]
  },
  {
   "cell_type": "markdown",
   "metadata": {},
   "source": [
    "- recorre el arreglo de manera lineal, comparando dos valores a la vez\n",
    "- si el valor que esta a la izquierda  es mayor que el valor que esta a la derecha, los cambia de lugar\n",
    "- esto sucede iterativa mente hasta que los valores queden de menor a mayor"
   ]
  },
  {
   "cell_type": "markdown",
   "metadata": {},
   "source": [
    "#### Ventajas"
   ]
  },
  {
   "cell_type": "markdown",
   "metadata": {},
   "source": [
    " - simple de implementar\n",
    " - fácil de entender"
   ]
  },
  {
   "cell_type": "markdown",
   "metadata": {},
   "source": [
    "#### Aplicaciones"
   ]
  },
  {
   "cell_type": "markdown",
   "metadata": {},
   "source": [
    "- cuando se sabe que los datos estan casi completamente ordenados\n",
    "- instrumento pedagógico\n",
    "    - probar un algorimco correcto\n",
    "    - analizar runtime"
   ]
  },
  {
   "cell_type": "markdown",
   "metadata": {},
   "source": [
    "#### Pseudocódigo"
   ]
  },
  {
   "cell_type": "raw",
   "metadata": {},
   "source": [
    "procedure bubbleSort(A : list of sortable items )\n",
    "    n = length(A)\n",
    "    repeat\n",
    "        swapped = false\n",
    "        for i = 1 to n-1 inclusive do\n",
    "            /* if this pair is out of order */\n",
    "            if A[i-1] > A[i] then\n",
    "                /* swap them and remember something changed */\n",
    "                swap( A[i-1], A[i] )\n",
    "                swapped = true\n",
    "            end if\n",
    "        end for\n",
    "    until not swapped\n",
    "end procedure"
   ]
  },
  {
   "cell_type": "markdown",
   "metadata": {},
   "source": [
    "### Shell Sort"
   ]
  },
  {
   "cell_type": "markdown",
   "metadata": {},
   "source": [
    "#### Cómo Funciona"
   ]
  },
  {
   "cell_type": "markdown",
   "metadata": {},
   "source": [
    "- in-place comparison sort\n",
    "- starts by sorting pairs of elements far apart from each other, then progressively redicing the gap between the elements to be compares"
   ]
  },
  {
   "cell_type": "markdown",
   "metadata": {},
   "source": [
    "#### Ventajas"
   ]
  },
  {
   "cell_type": "markdown",
   "metadata": {},
   "source": [
    "- efficient on medium sized lists\n",
    "- 5 times faster than bubble sort\n",
    "- a little over twice as fast as insertion sort"
   ]
  },
  {
   "cell_type": "markdown",
   "metadata": {},
   "source": [
    "#### Aplicaciones"
   ]
  },
  {
   "cell_type": "markdown",
   "metadata": {},
   "source": [
    "- cn be implemented using little code and does not use a call stack\n",
    "- C standard library targeted at embedded systems\n",
    "- sub-algorithm of introspective sort"
   ]
  },
  {
   "cell_type": "markdown",
   "metadata": {},
   "source": [
    "#### Pseudocódigo"
   ]
  },
  {
   "cell_type": "raw",
   "metadata": {},
   "source": [
    "# Sort an array a[0...n-1].\n",
    "gaps = [701, 301, 132, 57, 23, 10, 4, 1]\n",
    "\n",
    "# Start with the largest gap and work down to a gap of 1\n",
    "foreach (gap in gaps)\n",
    "{\n",
    "    # Do a gapped insertion sort for this gap size.\n",
    "    # The first gap elements a[0..gap-1] are already in gapped order\n",
    "    # keep adding one more element until the entire array is gap sorted\n",
    "    for (i = gap; i < n; i += 1)\n",
    "    {\n",
    "        # add a[i] to the elements that have been gap sorted\n",
    "        # save a[i] in temp and make a hole at position i\n",
    "        temp = a[i]\n",
    "        # shift earlier gap-sorted elements up until the correct location for a[i] is found\n",
    "        for (j = i; j >= gap and a[j - gap] > temp; j -= gap)\n",
    "        {\n",
    "            a[j] = a[j - gap]\n",
    "        }\n",
    "        # put temp (the original a[i]) in its correct location\n",
    "        a[j] = temp\n",
    "    }\n",
    "}"
   ]
  },
  {
   "cell_type": "markdown",
   "metadata": {},
   "source": [
    "### Odd-Even Sort"
   ]
  },
  {
   "cell_type": "markdown",
   "metadata": {},
   "source": [
    "#### Cómo Funciona"
   ]
  },
  {
   "cell_type": "markdown",
   "metadata": {},
   "source": [
    "- compares all odd/even indexed pais of adjacent elements in the list and if a pais is in the wrong order (the first is larger than the second) the elements are switched."
   ]
  },
  {
   "cell_type": "markdown",
   "metadata": {},
   "source": [
    "#### Venatajas"
   ]
  },
  {
   "cell_type": "markdown",
   "metadata": {},
   "source": [
    "- faster than Merge Sort\n"
   ]
  },
  {
   "cell_type": "markdown",
   "metadata": {},
   "source": [
    "#### Aplicaciones"
   ]
  },
  {
   "cell_type": "markdown",
   "metadata": {},
   "source": [
    "- sorting lists"
   ]
  },
  {
   "cell_type": "markdown",
   "metadata": {},
   "source": [
    "#### Pseudocódigo"
   ]
  },
  {
   "cell_type": "raw",
   "metadata": {},
   "source": [
    "Procedure OddEvenSort(L, n)\n",
    "Model: one dimension mesh Mp with p = n processors\n",
    "Input: L (a list of size n)\trange: Pi, 1 <= i <= n\n",
    "Output: L(sorted list)\t\trange: Pi, 1 <= i <= n\n",
    "for Step := 1 to n do\n",
    "\tif odd(step) then\n",
    "\t\tfor Pi, 1 <= i <= n-1 .and. odd(i) do in parallel {odd-even exchange}\n",
    "\t\t\tPi:Temp <= Pi+1:L { communication left from L to Temp }\n",
    "\t\t\tif L > Temp then\n",
    "\t\t\t\tPi+1:L <= Pi:L { propagate L right }\n",
    "\t\t\t\tL:=Temp\n",
    "\t\t\tendif\n",
    "\t\tend in parallel\n",
    "\telse {step is even }\n",
    "\t\tfor Pi, 2 <= i <= n-2 .and. even(i) do in parallel { even-odd exchange }\n",
    "\t\t\tPi:Temp <= Pi+1:L {communicate left from L to Temp }\n",
    "\t\t\tif L > Temp then\n",
    "\t\t\t\tPi+1:L <= Pi:L { propagate L right }\n",
    "\t\t\t\tL:=Temp\n",
    "\t\t\tendif\n",
    "\t\tend in parallel\n",
    "\tendif\n",
    "endfor\n",
    "end OddEvenSort"
   ]
  },
  {
   "cell_type": "markdown",
   "metadata": {},
   "source": [
    "***"
   ]
  },
  {
   "cell_type": "markdown",
   "metadata": {},
   "source": [
    "## Search Algorithms"
   ]
  },
  {
   "cell_type": "markdown",
   "metadata": {},
   "source": [
    "### Sequential Search"
   ]
  },
  {
   "cell_type": "markdown",
   "metadata": {},
   "source": [
    "#### Cómo Funciona"
   ]
  },
  {
   "cell_type": "markdown",
   "metadata": {},
   "source": [
    "Tambien conocido como Linear Search\n",
    "\n",
    "- verifica secuencialmente (uno despues de otro) cada valor de la lista hasta que encuentra el deseado\n",
    "- corre en un tiempo lineal"
   ]
  },
  {
   "cell_type": "markdown",
   "metadata": {},
   "source": [
    "#### Venatajas"
   ]
  },
  {
   "cell_type": "markdown",
   "metadata": {},
   "source": [
    "- el algoritmo de búsqueda mas simple de todos\n",
    "- simple \n",
    "- eficiente en los recursos porque no requiere copiar/particionar el arreglo que esta siendo usado para busqueda, haciendo el algoritmo eficiente en memoria\n",
    "- funciona bien si los datos estan ordenados o desordenados"
   ]
  },
  {
   "cell_type": "markdown",
   "metadata": {},
   "source": [
    "#### Aplicaciones"
   ]
  },
  {
   "cell_type": "markdown",
   "metadata": {},
   "source": [
    "- cuando la lista tiene pocos elementos (100 o menos)\n"
   ]
  },
  {
   "cell_type": "markdown",
   "metadata": {},
   "source": [
    "#### Pseudocódigo"
   ]
  },
  {
   "cell_type": "raw",
   "metadata": {},
   "source": [
    "procedure linear_search (list, value)\n",
    "\n",
    "   for each item in the list\n",
    "      if match item == value\n",
    "         return the item's location\n",
    "      end if\n",
    "   end for\n",
    "\n",
    "end procedure"
   ]
  },
  {
   "cell_type": "markdown",
   "metadata": {},
   "source": [
    "### Binary Search"
   ]
  },
  {
   "cell_type": "markdown",
   "metadata": {},
   "source": [
    "#### Cómo Funciona"
   ]
  },
  {
   "cell_type": "markdown",
   "metadata": {},
   "source": [
    "- compara la mitad y despues menor mayor"
   ]
  },
  {
   "cell_type": "markdown",
   "metadata": {},
   "source": [
    "#### Venatajas"
   ]
  },
  {
   "cell_type": "markdown",
   "metadata": {},
   "source": [
    "- comlplejudad o(1)\n",
    "- bueno para listas grandes\n"
   ]
  },
  {
   "cell_type": "markdown",
   "metadata": {},
   "source": [
    "#### Aplicaciones"
   ]
  },
  {
   "cell_type": "markdown",
   "metadata": {},
   "source": [
    "- Akinator\n",
    "- 3D games\n",
    "- debugging"
   ]
  },
  {
   "cell_type": "markdown",
   "metadata": {},
   "source": [
    "#### Pseudocódigo"
   ]
  },
  {
   "cell_type": "raw",
   "metadata": {},
   "source": [
    "function binary_search(A, n, T):\n",
    "    L := 0\n",
    "    R := n − 1\n",
    "    while L <= R:\n",
    "        m := floor((L + R) / 2)\n",
    "        if A[m] < T:\n",
    "            L := m + 1\n",
    "        else if A[m] > T:\n",
    "            R := m - 1\n",
    "        else:\n",
    "            return m\n",
    "    return unsuccessful"
   ]
  },
  {
   "cell_type": "markdown",
   "metadata": {},
   "source": [
    "### Fibonacci Search"
   ]
  },
  {
   "cell_type": "markdown",
   "metadata": {},
   "source": [
    "#### Cómo Funciona"
   ]
  },
  {
   "cell_type": "markdown",
   "metadata": {},
   "source": [
    "- divide and conquer algorithm\n",
    "- narrows down possible locations with the aid of the Fibonacci numbers\n",
    "- divides the array into two parts that have sizes that are consecutive Fibonacci numbers"
   ]
  },
  {
   "cell_type": "markdown",
   "metadata": {},
   "source": [
    "#### Venatajas"
   ]
  },
  {
   "cell_type": "markdown",
   "metadata": {},
   "source": [
    "- 10% better efficiency than the ordinary binary search\n",
    "- can be used when the element being searched for has a non uniform access storage"
   ]
  },
  {
   "cell_type": "markdown",
   "metadata": {},
   "source": [
    "#### Aplicaciones"
   ]
  },
  {
   "cell_type": "markdown",
   "metadata": {},
   "source": [
    "- magnetic tapes\n",
    "- large arrays that don't fit in the CPU cache or RAM"
   ]
  },
  {
   "cell_type": "markdown",
   "metadata": {},
   "source": [
    "#### Pseudocódigo"
   ]
  },
  {
   "cell_type": "markdown",
   "metadata": {},
   "source": [
    "1. Set k = m.\n",
    "2. If k = 0, stop. There is no match; the item is not in the array.\n",
    "3. Compare the item against element in Fk−1.\n",
    "4. If the item matches, stop.\n",
    "5. If the item is less than entry Fk−1, discard the elements from positions Fk−1 + 1 to n. Set k = k − 1 and return to step 2.\n",
    "6. If the item is greater than entry Fk−1, discard the elements from positions 1 to Fk−1. Renumber the remaining elements from 1 to Fk−2, set k = k − 2, and return to step 2.\n"
   ]
  }
 ],
 "metadata": {
  "kernelspec": {
   "display_name": "Python 3",
   "language": "python",
   "name": "python3"
  },
  "language_info": {
   "codemirror_mode": {
    "name": "ipython",
    "version": 3
   },
   "file_extension": ".py",
   "mimetype": "text/x-python",
   "name": "python",
   "nbconvert_exporter": "python",
   "pygments_lexer": "ipython3",
   "version": "3.7.1"
  }
 },
 "nbformat": 4,
 "nbformat_minor": 2
}
